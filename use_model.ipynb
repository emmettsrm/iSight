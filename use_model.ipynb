{
 "cells": [
  {
   "cell_type": "code",
   "execution_count": 2,
   "metadata": {},
   "outputs": [
    {
     "name": "stderr",
     "output_type": "stream",
     "text": [
      "Using TensorFlow backend.\n"
     ]
    }
   ],
   "source": [
    "import cv2\n",
    "import keras\n",
    "\n",
    "def build_model(filename):\n",
    "  return keras.models.load_model(filename)\n",
    "\n",
    "def prepare_for_predict(url):\n",
    "  img = cv2.imread(url)\n",
    "  img = cv2.resize(img, (256, 256))\n",
    "  cv2.normalize(img, img, 0, 255, cv2.NORM_MINMAX)  \n",
    "  return img\n",
    "\n",
    "def predict(model,img):\n",
    "  return model.predict(model)"
   ]
  }
 ],
 "metadata": {
  "kernelspec": {
   "display_name": "Python 3",
   "language": "python",
   "name": "python3"
  },
  "language_info": {
   "codemirror_mode": {
    "name": "ipython",
    "version": 3
   },
   "file_extension": ".py",
   "mimetype": "text/x-python",
   "name": "python",
   "nbconvert_exporter": "python",
   "pygments_lexer": "ipython3",
   "version": "3.7.4"
  }
 },
 "nbformat": 4,
 "nbformat_minor": 4
}
